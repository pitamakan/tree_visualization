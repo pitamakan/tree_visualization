{
  "nbformat": 4,
  "nbformat_minor": 0,
  "metadata": {
    "colab": {
      "name": "Layered-Tree-Draw.ipynb",
      "provenance": [],
      "collapsed_sections": []
    },
    "kernelspec": {
      "name": "python3",
      "display_name": "Python 3"
    },
    "language_info": {
      "name": "python"
    }
  },
  "cells": [
    {
      "cell_type": "code",
      "execution_count": 1,
      "metadata": {
        "id": "3lS-t87WXeCA"
      },
      "outputs": [],
      "source": [
        "import networkx\n",
        "from matplotlib import image\n",
        "from matplotlib import pyplot as plt"
      ]
    },
    {
      "cell_type": "code",
      "source": [
        "path_to_input = \"Input path here\"\n",
        "path_to_output = None # (Option) path to output file in jpeg, jpg or png format"
      ],
      "metadata": {
        "id": "eywDIF-qXekB"
      },
      "execution_count": 5,
      "outputs": []
    },
    {
      "cell_type": "code",
      "source": [
        "def GraphToCoordinates(graph, root, x_shift, depth):\n",
        "  result = {}\n",
        "  if (len(graph[root]) == 0):\n",
        "    return {root: (x_shift, depth)}, x_shift\n",
        "    \n",
        "  cur_shift = x_shift\n",
        "  x_coord = 0\n",
        "  most_right = 0\n",
        "  max_depth = 0\n",
        "  for i, child in enumerate(graph[root]):\n",
        "    subgraph, most_right = GraphToCoordinates(graph, child, cur_shift, depth + 1)\n",
        "    if len(graph[root]) % 2 == 0 and (i + 1) * 2 == len(graph[root]):\n",
        "      x_coord = most_right + 1\n",
        "      most_right += 1\n",
        "    if len(graph[root]) % 2 == 1 and i * 2 + 1 == len(graph[root]):\n",
        "      x_coord = subgraph[child][0]\n",
        "    cur_shift = most_right + 1\n",
        "    result.update(subgraph)\n",
        "  result.update({root: (x_coord, depth)})\n",
        "  return result, most_right\n",
        "  \n",
        "def PrintGraph(graph_edges, nodes_coordinates, filename=None):\n",
        "  for node, childs in graph_edges.items():\n",
        "    for child in childs:\n",
        "      first = nodes_coordinates[node]\n",
        "      second = nodes_coordinates[child]\n",
        "      plt.plot((-first[0], -second[0]), (-first[1], -second[1]), color='black', linewidth=2,\n",
        "               marker='o', label='line with marker', markerfacecolor='red')\n",
        "  plt.axis('off')\n",
        "  if filename is not None:\n",
        "    plt.savefig(filename, dpi=100)\n",
        "  plt.show()"
      ],
      "metadata": {
        "id": "nEfHEBlQffQ7"
      },
      "execution_count": 138,
      "outputs": []
    },
    {
      "cell_type": "code",
      "source": [
        "graph = networkx.read_graphml(path_to_input)\n",
        "\n",
        "graph_edges = {}\n",
        "for k, nodes in graph.adjacency():\n",
        "  graph_edges[k] = []\n",
        "  for node in nodes:\n",
        "    graph_edges[k].append(node)\n",
        "\n",
        "nodes_coordinates, _ = GraphToCoordinates(graph_edges, next(graph.adjacency())[0], 0, 0)\n",
        "PrintGraph(graph_edges, nodes_coordinates, path_to_output)"
      ],
      "metadata": {
        "colab": {
          "base_uri": "https://localhost:8080/",
          "height": 248
        },
        "id": "yYwh2jnofpfb",
        "outputId": "97ae8f59-c4fb-48f5-af19-ae71cc4d145a"
      },
      "execution_count": 139,
      "outputs": [
        {
          "output_type": "display_data",
          "data": {
            "text/plain": [
              "<Figure size 432x288 with 1 Axes>"
            ],
            "image/png": "[encoded data removed]"
          },
          "metadata": {
            "needs_background": "light"
          }
        }
      ]
    },
    {
      "cell_type": "code",
      "source": [
        ""
      ],
      "metadata": {
        "id": "RpBb2xWB4PDA"
      },
      "execution_count": null,
      "outputs": []
    }
  ]
}